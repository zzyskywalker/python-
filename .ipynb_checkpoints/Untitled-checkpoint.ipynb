{
 "cells": [
  {
   "cell_type": "code",
   "execution_count": null,
   "id": "4e38056e",
   "metadata": {},
   "outputs": [],
   "source": [
    "for 循环中会用到的\n",
    "zip\n",
    "enumerate()"
   ]
  },
  {
   "cell_type": "code",
   "execution_count": null,
   "id": "5c35478f",
   "metadata": {},
   "outputs": [],
   "source": [
    "深copy和浅copy"
   ]
  },
  {
   "cell_type": "code",
   "execution_count": null,
   "id": "8eac2aec",
   "metadata": {},
   "outputs": [],
   "source": [
    "yield返回生成器，跟return类似"
   ]
  },
  {
   "cell_type": "code",
   "execution_count": 1,
   "id": "f58fdb09",
   "metadata": {},
   "outputs": [],
   "source": [
    "def create_generator():\n",
    "    mylist = range(3)\n",
    "    for i in mylist:\n",
    "        yield i*i"
   ]
  },
  {
   "cell_type": "code",
   "execution_count": 2,
   "id": "669ab8b5",
   "metadata": {},
   "outputs": [],
   "source": [
    "mygenerator = create_generator()"
   ]
  },
  {
   "cell_type": "code",
   "execution_count": 3,
   "id": "7aca296d",
   "metadata": {},
   "outputs": [
    {
     "name": "stdout",
     "output_type": "stream",
     "text": [
      "0\n",
      "1\n",
      "4\n"
     ]
    }
   ],
   "source": [
    "for i in mygenerator:\n",
    "    print(i)"
   ]
  },
  {
   "cell_type": "code",
   "execution_count": 4,
   "id": "f7f1f514",
   "metadata": {},
   "outputs": [],
   "source": [
    "for i in mygenerator:\n",
    "    print(i)"
   ]
  },
  {
   "cell_type": "code",
   "execution_count": 6,
   "id": "1bdc167b",
   "metadata": {},
   "outputs": [
    {
     "name": "stdout",
     "output_type": "stream",
     "text": [
      "a\n",
      "b\n"
     ]
    }
   ],
   "source": [
    "#将函数放在列表中去\n",
    "def a():\n",
    "    print(\"a\")\n",
    "    \n",
    "def b():\n",
    "    print(\"b\")\n",
    "    \n",
    "list1=[a,b]\n",
    "for i in list1:\n",
    "    i()"
   ]
  },
  {
   "cell_type": "markdown",
   "id": "7f070e71",
   "metadata": {},
   "source": [
    "py文件命名的时候，如果文件名和包的名字一样，可能会报错，比如我命名为numpy.py，引用numpy时出错"
   ]
  },
  {
   "cell_type": "code",
   "execution_count": 8,
   "id": "c340a389",
   "metadata": {},
   "outputs": [
    {
     "name": "stdout",
     "output_type": "stream",
     "text": [
      "[[1], [1], [1], [1], [1], [1], [1], [1], [1], [1], [1], [1], [1], [1], [1], [1], [1], [1], [1], [1], [1], [1], [1], [1], [1], [1], [1], [1], [1], [1], [1], [1], [1], [1], [1], [1], [1], [1], [1], [1], [1], [1], [1], [1], [1], [1], [1], [1], [1], [1], [1], [1], [1], [1], [1], [1], [1], [1], [1], [1], [1], [1], [1], [1], [1], [1], [1], [1], [1], [1], [1], [1], [1], [1], [1], [1], [1], [1], [1], [1], [1], [1], [1], [1], [1], [1], [1], [1], [1], [1], [1], [1], [1], [1], [1], [1], [1], [1], [1], [1]]\n"
     ]
    }
   ],
   "source": [
    "#初始化列表的时候要注意，如果要使用append，不能够使用这种方法，列表生成式比较合适\n",
    "lista=[[]]*100\n",
    "\n",
    "lista[0].append(1)\n",
    "\n",
    "print(lista)"
   ]
  },
  {
   "cell_type": "code",
   "execution_count": null,
   "id": "b54eceae",
   "metadata": {},
   "outputs": [],
   "source": []
  }
 ],
 "metadata": {
  "kernelspec": {
   "display_name": "Python 3",
   "language": "python",
   "name": "python3"
  },
  "language_info": {
   "codemirror_mode": {
    "name": "ipython",
    "version": 3
   },
   "file_extension": ".py",
   "mimetype": "text/x-python",
   "name": "python",
   "nbconvert_exporter": "python",
   "pygments_lexer": "ipython3",
   "version": "3.8.10"
  }
 },
 "nbformat": 4,
 "nbformat_minor": 5
}
