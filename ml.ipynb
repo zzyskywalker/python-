{
 "cells": [
  {
   "cell_type": "markdown",
   "metadata": {},
   "source": [
    "线性模型比如knn，k-means感知机等等需要归一化。\n",
    "决策树随机森林等等不需要归一化或者标准化"
   ]
  },
  {
   "cell_type": "markdown",
   "metadata": {},
   "source": [
    "正则化:L1正则化Lasso回归或者L2正则化岭回归，L2正则化是防止过拟合最常用的。"
   ]
  },
  {
   "cell_type": "markdown",
   "metadata": {},
   "source": [
    "MSE评价指标，如果离群点是有用的数据，适合。\n",
    "如果离群点是损坏数据、错误数据，不需要关注的数据用MAE"
   ]
  }
 ],
 "metadata": {
  "language_info": {
   "name": "python"
  },
  "orig_nbformat": 4
 },
 "nbformat": 4,
 "nbformat_minor": 2
}
