{
 "cells": [
  {
   "cell_type": "markdown",
   "id": "ae5f3442",
   "metadata": {},
   "source": [
    "for 循环中会用到的\n",
    "zip\n",
    "enumerate()"
   ]
  },
  {
   "cell_type": "markdown",
   "id": "74e1929c",
   "metadata": {},
   "source": [
    "深copy和浅copy"
   ]
  },
  {
   "cell_type": "markdown",
   "id": "ca6f3153",
   "metadata": {},
   "source": [
    "yield返回生成器，跟return类似。"
   ]
  },
  {
   "cell_type": "code",
   "execution_count": null,
   "id": "f58fdb09",
   "metadata": {},
   "outputs": [],
   "source": [
    "def create_generator():\n",
    "    mylist = range(3)\n",
    "    for i in mylist:\n",
    "        yield i*i"
   ]
  },
  {
   "cell_type": "code",
   "execution_count": null,
   "id": "669ab8b5",
   "metadata": {},
   "outputs": [],
   "source": [
    "mygenerator = create_generator()"
   ]
  },
  {
   "cell_type": "code",
   "execution_count": null,
   "id": "7aca296d",
   "metadata": {},
   "outputs": [],
   "source": [
    "for i in mygenerator:\n",
    "    print(i)"
   ]
  },
  {
   "cell_type": "code",
   "execution_count": null,
   "id": "f7f1f514",
   "metadata": {},
   "outputs": [],
   "source": [
    "for i in mygenerator:\n",
    "    print(i)"
   ]
  },
  {
   "cell_type": "code",
   "execution_count": null,
   "id": "1bdc167b",
   "metadata": {},
   "outputs": [],
   "source": [
    "#将函数放在列表中去\n",
    "def a():\n",
    "    print(\"a\")\n",
    "    \n",
    "def b():\n",
    "    print(\"b\")\n",
    "    \n",
    "list1=[a,b]\n",
    "for i in list1:\n",
    "    i()"
   ]
  },
  {
   "cell_type": "markdown",
   "id": "7f070e71",
   "metadata": {},
   "source": [
    "py文件命名的时候，如果文件名和包的名字一样，可能会报错，比如我命名为numpy.py，引用numpy时出错"
   ]
  },
  {
   "cell_type": "code",
   "execution_count": null,
   "id": "c340a389",
   "metadata": {},
   "outputs": [],
   "source": [
    "#初始化列表的时候要注意，如果要使用append，不能够使用这种方法，列表生成式比较合适\n",
    "lista=[[]]*100\n",
    "\n",
    "lista[0].append(1)\n",
    "\n",
    "print(lista)"
   ]
  },
  {
   "cell_type": "markdown",
   "id": "ea982268",
   "metadata": {},
   "source": [
    "： 冒号，类型声明。greeting 函数中，参数 name 的类型是 str，返回类型也是 str。子类型也可以当作参数。\n",
    "https://www.cnblogs.com/poloyy/p/15145380.html"
   ]
  },
  {
   "cell_type": "code",
   "execution_count": null,
   "id": "b54eceae",
   "metadata": {},
   "outputs": [],
   "source": [
    "def greeting(name: str) -> str:\n",
    "    return 'Hello ' + name\n"
   ]
  },
  {
   "cell_type": "markdown",
   "id": "281c544d",
   "metadata": {},
   "source": [
    "借助Numpy matrix.ravel()方法，我们可以从给定的矩阵中获取扁平化矩阵。\n",
    "np.matrix与np.array有些不同，matrix必须是二维的，而且相乘的话就是直接矩阵乘积，而array需要用np.dot()\n",
    "flatten()，以及ravel()对于array直接展平为一维数组，对于matrix展平的同 时保留原有维数和类型\n",
    "A1命令只针对matrix类型，直接展平为一维数组，而不是一维矩阵（也没有一维矩阵233）\n",
    "ps：多说一句，即使是对array类型的展平，flatten()和ravel()的效果是完全相同的，但机理不同，**ravel的展平是一种引用，flatten则是深拷贝**"
   ]
  },
  {
   "cell_type": "code",
   "execution_count": null,
   "id": "a0de9b45",
   "metadata": {},
   "outputs": [],
   "source": [
    "import numpy as np\n",
    "a=np.matrix([1,2,3,4])\n",
    "print(a)\n",
    "b=a.ravel()\n",
    "print(b)\n",
    "print(b.shape[1])"
   ]
  },
  {
   "cell_type": "markdown",
   "id": "c59d7913",
   "metadata": {},
   "source": [
    "python 从list中随机取值\n",
    "https://blog.csdn.net/weixin_39791387/article/details/84958436\n",
    "random.sample\n",
    "random.choice"
   ]
  },
  {
   "cell_type": "markdown",
   "id": "03fb542f",
   "metadata": {},
   "source": [
    "python 按照对象某一属性排序\n",
    "sorted (key= lamba x:x[0]) #新的list\n",
    "list_sort #原有的list修改"
   ]
  },
  {
   "cell_type": "markdown",
   "id": "2ddf9985",
   "metadata": {},
   "source": [
    "dataframe.isin()"
   ]
  },
  {
   "cell_type": "markdown",
   "id": "f8454043",
   "metadata": {},
   "source": [
    "sigmoid函数，当输入的数值特别大的时候，可能由于精度问题，返回值为1，所以计算log(1-sigmoid)可能会返回nan，所以我们需要其它的方法。\n",
    "比如，log(1 - max(sigmoid(z), EPSILON)))，定义一个最大精度.归一化或者标准化也是一个解决问题的办法。\n",
    "\n",
    "定义上限和下限"
   ]
  },
  {
   "cell_type": "code",
   "execution_count": null,
   "id": "e239a04c",
   "metadata": {},
   "outputs": [],
   "source": [
    "def sigmoid(x):\n",
    "    sig = 1 / (1 + np.exp(-x))     # Define sigmoid function\n",
    "    sig = np.minimum(sig, 0.9999)  # Set upper bound\n",
    "    sig = np.maximum(sig, 0.0001)  # Set lower bound\n",
    "    return sig"
   ]
  },
  {
   "cell_type": "markdown",
   "id": "a212bb97",
   "metadata": {},
   "source": [
    "decimal模块，高精度的十进制浮点数,但是也只能精确到后28位，太高的变量，输出依然是1."
   ]
  },
  {
   "cell_type": "code",
   "execution_count": 10,
   "id": "78aea3c3",
   "metadata": {},
   "outputs": [
    {
     "data": {
      "text/plain": [
       "Decimal('0.9999999999999999999999999970')"
      ]
     },
     "execution_count": 10,
     "metadata": {},
     "output_type": "execute_result"
    }
   ],
   "source": [
    "from decimal import Decimal\n",
    "import numpy as np\n",
    "import math\n",
    "def sigmoid(z):\n",
    "    sig = Decimal(1.0)/(Decimal(1.0) + Decimal(np.exp(-z)))\n",
    "    return sig\n",
    "sigmoid(61)\n",
    "#math.log(Decimal(1)-sigmoid(100))\n"
   ]
  },
  {
   "cell_type": "code",
   "execution_count": 11,
   "id": "b696d8a0",
   "metadata": {},
   "outputs": [
    {
     "data": {
      "text/plain": [
       "28"
      ]
     },
     "execution_count": 11,
     "metadata": {},
     "output_type": "execute_result"
    }
   ],
   "source": [
    "from decimal import *\n",
    "getcontext().prec = 28 \n"
   ]
  },
  {
   "cell_type": "code",
   "execution_count": 19,
   "id": "44bf77ed",
   "metadata": {},
   "outputs": [
    {
     "data": {
      "text/plain": [
       "Decimal('0.9999999999999999999999999910')"
      ]
     },
     "execution_count": 19,
     "metadata": {},
     "output_type": "execute_result"
    }
   ],
   "source": [
    "def sigmoid(z):\n",
    "    \n",
    "    if z >= 0:  # 对sigmoid函数的优化，避免了出现极大的数据溢出\n",
    "        return Decimal(1.0) / (Decimal(1.0) + Decimal(np.exp(-z)))\n",
    "    else:\n",
    "        return Decimal(np.exp(z)) / (Decimal(1.0) + Decimal(np.exp(z)))\n",
    "    \n",
    "sigmoid(60)"
   ]
  },
  {
   "cell_type": "markdown",
   "id": "9de34d30",
   "metadata": {},
   "source": [
    "jieba   分词工具包"
   ]
  }
 ],
 "metadata": {
  "kernelspec": {
   "display_name": "Python 3",
   "language": "python",
   "name": "python3"
  },
  "language_info": {
   "codemirror_mode": {
    "name": "ipython",
    "version": 3
   },
   "file_extension": ".py",
   "mimetype": "text/x-python",
   "name": "python",
   "nbconvert_exporter": "python",
   "pygments_lexer": "ipython3",
   "version": "3.8.10"
  }
 },
 "nbformat": 4,
 "nbformat_minor": 5
}
